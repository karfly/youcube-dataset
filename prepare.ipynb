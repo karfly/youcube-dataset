{
 "cells": [
  {
   "cell_type": "code",
   "execution_count": 1,
   "metadata": {},
   "outputs": [],
   "source": [
    "import os\n",
    "import numpy as np\n",
    "import cv2"
   ]
  },
  {
   "cell_type": "markdown",
   "metadata": {},
   "source": [
    "Prepare UV-texures"
   ]
  },
  {
   "cell_type": "code",
   "execution_count": 19,
   "metadata": {},
   "outputs": [
    {
     "data": {
      "text/plain": [
       "True"
      ]
     },
     "execution_count": 19,
     "metadata": {},
     "output_type": "execute_result"
    }
   ],
   "source": [
    "s = 1024\n",
    "xx, yy = np.meshgrid(np.arange(s), np.arange(s))\n",
    "\n",
    "xx = (255 * (xx / s)).astype(np.uint8)\n",
    "yy = (255 * (yy / s)).astype(np.uint8)\n",
    "\n",
    "cv2.imwrite(\"uv/xx.png\", xx)\n",
    "cv2.imwrite(\"uv/yy.png\", yy)"
   ]
  },
  {
   "cell_type": "markdown",
   "metadata": {},
   "source": [
    "---"
   ]
  },
  {
   "cell_type": "code",
   "execution_count": 6,
   "metadata": {},
   "outputs": [],
   "source": [
    "path = \"cube.png\"\n",
    "cube_uv = cv2.imread(path)"
   ]
  },
  {
   "cell_type": "code",
   "execution_count": 7,
   "metadata": {},
   "outputs": [
    {
     "data": {
      "text/plain": [
       "array([[[53, 53, 53],\n",
       "        [28, 28, 28],\n",
       "        [28, 28, 28],\n",
       "        ...,\n",
       "        [53, 53, 53],\n",
       "        [53, 53, 53],\n",
       "        [53, 53, 53]],\n",
       "\n",
       "       [[28, 28, 28],\n",
       "        [21, 21, 21],\n",
       "        [44, 44, 44],\n",
       "        ...,\n",
       "        [53, 53, 53],\n",
       "        [53, 53, 53],\n",
       "        [53, 53, 53]],\n",
       "\n",
       "       [[28, 28, 28],\n",
       "        [44, 44, 44],\n",
       "        [91, 91, 91],\n",
       "        ...,\n",
       "        [53, 53, 53],\n",
       "        [53, 53, 53],\n",
       "        [53, 53, 53]],\n",
       "\n",
       "       ...,\n",
       "\n",
       "       [[28, 28, 28],\n",
       "        [44, 44, 44],\n",
       "        [91, 91, 91],\n",
       "        ...,\n",
       "        [91, 91, 91],\n",
       "        [44, 44, 44],\n",
       "        [28, 28, 28]],\n",
       "\n",
       "       [[28, 28, 28],\n",
       "        [21, 21, 21],\n",
       "        [44, 44, 44],\n",
       "        ...,\n",
       "        [44, 44, 44],\n",
       "        [21, 21, 21],\n",
       "        [28, 28, 28]],\n",
       "\n",
       "       [[53, 53, 53],\n",
       "        [28, 28, 28],\n",
       "        [28, 28, 28],\n",
       "        ...,\n",
       "        [28, 28, 28],\n",
       "        [28, 28, 28],\n",
       "        [53, 53, 53]]], dtype=uint8)"
      ]
     },
     "execution_count": 7,
     "metadata": {},
     "output_type": "execute_result"
    }
   ],
   "source": [
    "cube_uv"
   ]
  },
  {
   "cell_type": "code",
   "execution_count": null,
   "metadata": {},
   "outputs": [],
   "source": []
  }
 ],
 "metadata": {
  "kernelspec": {
   "display_name": "Python 3",
   "language": "python",
   "name": "python3"
  },
  "language_info": {
   "codemirror_mode": {
    "name": "ipython",
    "version": 3
   },
   "file_extension": ".py",
   "mimetype": "text/x-python",
   "name": "python",
   "nbconvert_exporter": "python",
   "pygments_lexer": "ipython3",
   "version": "3.7.4"
  }
 },
 "nbformat": 4,
 "nbformat_minor": 4
}
